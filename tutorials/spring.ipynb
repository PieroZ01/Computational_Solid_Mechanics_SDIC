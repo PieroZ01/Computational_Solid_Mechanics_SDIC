{
 "cells": [
  {
   "cell_type": "markdown",
   "id": "2422bd4a",
   "metadata": {},
   "source": [
    "# CSM Tutorial\n",
    "\n",
    "## Spring Elements Problems\n",
    "\n",
    "In this tutorial, we will show the typical workflow of solving a spring elements problem using the CSM (Computational Solid Mechanics) framework. As we will see, the framework allows to easily define the problem and solve it quickly in very few lines of code.\n",
    "\n",
    "### Problem Description\n",
    "\n",
    "The spring element is a simple one-dimensional element that connects two nodes. The spring has a stiffness `k` and can be compressed or stretched. As the spring element has only two degrees of freedom (DOFs), one at each node, the element stiffness matrix is a 2x2 matrix defined as:\n",
    "\n",
    "$$\n",
    "k_{el} = \\begin{bmatrix}\n",
    "k & -k \\\\\n",
    "-k & k\n",
    "\\end{bmatrix}\n",
    "$$\n",
    "\n",
    "Therefore, for a problem consisting of a system of spring elements with `n` nodes, the global stiffness matrix `K` will be a `n x n` matrix. The global stiffness matrix is assembled from the element stiffness matrices and has to be symmetric and positive definite. Once the global stiffness matrix is assembled, the following system of equations is obtained:\n",
    "\n",
    "$$\n",
    "K \\cdot U = F\n",
    "$$\n",
    "\n",
    "where `U` is the global nodal displacement vector and `F` is the global nodal force vector.\n",
    "\n",
    "After imposing the boundary conditions, the system of equations can be solved for the unknown nodal displacements. The element forces can then be computed using the element stiffness matrix and the nodal displacements.\n",
    "\n",
    "### Example Problem\n",
    "\n",
    "In this example, we will solve a simple problem consisting of two spring elements connected in series. The first element has a stiffness of `k1 = 100 kN/m` and the second element has a stiffness of `k2 = 200 kN/m`. The system is subjected to a total force of `F = 15 kN` at the free end of the second element. The first node is fixed, and the second node is free."
   ]
  },
  {
   "cell_type": "markdown",
   "id": "ca637fb0",
   "metadata": {},
   "source": [
    "### Solution Steps using CSM\n",
    "1. **Import Required Libraries**: first, we need to import the SpringProblem class from the CSM framework."
   ]
  },
  {
   "cell_type": "code",
   "execution_count": 1,
   "id": "60bfbee1",
   "metadata": {},
   "outputs": [],
   "source": [
    "# Import the necessary libraries\n",
    "from CSM import SpringProblem"
   ]
  },
  {
   "cell_type": "markdown",
   "id": "9572e5e9",
   "metadata": {},
   "source": [
    "2. **Define the Problem**: we define the problem parameters, including the nodes, elements and stiffnesses. The nodes are defined as a list of tuples, where each tuple contains the coordinates of the node. The elements are defined as a list of tuples, where each tuple contains the indices of the nodes that form the element. The stiffnesses are defined as a list of floats, where each float corresponds to the stiffness of the respective element."
   ]
  },
  {
   "cell_type": "code",
   "execution_count": 2,
   "id": "35393516",
   "metadata": {},
   "outputs": [],
   "source": [
    "# Define the parameters for the spring problem\n",
    "nodes = [(0, 0), (0, 1), (0, 2)] # 3 nodes in a vertical line\n",
    "elements = [(0, 1), (1, 2)] # 2 elements connecting the nodes\n",
    "k = [100, 200]"
   ]
  },
  {
   "cell_type": "markdown",
   "id": "856d5817",
   "metadata": {},
   "source": [
    "3. **Create the Problem Instance**: we create an instance of the SpringProblem class and set the problem parameters."
   ]
  },
  {
   "cell_type": "code",
   "execution_count": 3,
   "id": "98f6fbd2",
   "metadata": {},
   "outputs": [],
   "source": [
    "# Create an instance of the SpringProblem class\n",
    "# with the defined nodes, elements, and spring constants\n",
    "spring = SpringProblem(nodes, elements, k)"
   ]
  },
  {
   "cell_type": "markdown",
   "id": "0a6ad9d8",
   "metadata": {},
   "source": [
    "4. **Assemble the Global Stiffness Matrix**: we call the `assemble_global_stiffness` method to assemble the global stiffness matrix. As mentioned earlier, the global stiffness matrix is obtained by assembling the element stiffness matrices."
   ]
  },
  {
   "cell_type": "code",
   "execution_count": 4,
   "id": "cee98c74",
   "metadata": {},
   "outputs": [
    {
     "name": "stdout",
     "output_type": "stream",
     "text": [
      "Global stiffness matrix:\n",
      "[[ 100. -100.    0.]\n",
      " [-100.  300. -200.]\n",
      " [   0. -200.  200.]]\n"
     ]
    }
   ],
   "source": [
    "K = spring.assemble_global_stiffness()\n",
    "# Print the global stiffness matrix\n",
    "print(\"Global stiffness matrix:\")\n",
    "print(K)"
   ]
  },
  {
   "cell_type": "markdown",
   "id": "fe16c752",
   "metadata": {},
   "source": [
    "If we need some information about the SpringProblem class or some of its methods, we can use the `help` function to get a list of all the methods and their docstrings. For example, to get help on the `assemble_global_stiffness` method, we can do:"
   ]
  },
  {
   "cell_type": "code",
   "execution_count": 5,
   "id": "3a241e0c",
   "metadata": {},
   "outputs": [
    {
     "name": "stdout",
     "output_type": "stream",
     "text": [
      "Help on method assemble_global_stiffness in module CSM.spring:\n",
      "\n",
      "assemble_global_stiffness() method of CSM.spring.SpringProblem instance\n",
      "    Assemble the global stiffness matrix from local stiffness matrices.\n",
      "    \n",
      "    Returns:\n",
      "    np.ndarray: Global stiffness matrix.\n",
      "\n"
     ]
    }
   ],
   "source": [
    "help(spring.assemble_global_stiffness)"
   ]
  },
  {
   "cell_type": "markdown",
   "id": "7f816e82",
   "metadata": {},
   "source": [
    "5. **Apply Boundary Conditions** (*optional*): we apply the boundary conditions by setting the fixed node's displacement to zero. To do this, we can use the `set_external_constraints` method, which takes a list as input. Each element of the list is the index of the node that is fixed. In this case, we will set the first node (index 0) as fixed. The method will also partition the global stiffness matrix `K`, removing the rows and columns corresponding to the fixed node. The resulting matrix will be a reduced matrix that can be used to solve the system of equations."
   ]
  },
  {
   "cell_type": "code",
   "execution_count": 6,
   "id": "620ddb98",
   "metadata": {},
   "outputs": [
    {
     "name": "stdout",
     "output_type": "stream",
     "text": [
      "Reduced stiffness matrix:\n",
      "[[ 300. -200.]\n",
      " [-200.  200.]]\n"
     ]
    }
   ],
   "source": [
    "Reduced_K = spring.set_external_constraints([0])\n",
    "# Print the reduced stiffness matrix\n",
    "print(\"Reduced stiffness matrix:\")\n",
    "print(Reduced_K)"
   ]
  },
  {
   "cell_type": "markdown",
   "id": "4fc981b2",
   "metadata": {},
   "source": [
    "6. **Solve the System of Equations**: we call the `solve` method to solve the system of equations for the unknown nodal displacements. The method returns the global nodal displacement vector `U`, which contains the displacements of all nodes in the system. In doing so, the method will also automatically call the `set_external_constraints` method to apply the boundary conditions and therefore we don't need to call it explicitly as we did in the previous step just to show how it works. The `solve` method takes as input the list of external forces `F` and the list of fixed nodes."
   ]
  },
  {
   "cell_type": "code",
   "execution_count": 7,
   "id": "fe05a96d",
   "metadata": {},
   "outputs": [
    {
     "name": "stdout",
     "output_type": "stream",
     "text": [
      "Displacement vector (m):\n",
      "[0.    0.15  0.225]\n"
     ]
    }
   ],
   "source": [
    "F = [0, 15] # Define the force vector\n",
    "fixed_nodes = [0] # Define the fixed nodes\n",
    "# Solve the system with the given force vector and fixed nodes\n",
    "U = spring.solve(F, fixed_nodes)\n",
    "# Print the displacement vector\n",
    "print(\"Displacement vector (m):\")\n",
    "print(U)"
   ]
  },
  {
   "cell_type": "markdown",
   "id": "6faae7e5",
   "metadata": {},
   "source": [
    "We can obtain the displacement of a specific node by calling the `get_displacement` method, which takes as input the index of the node. The method returns the displacement of the node:"
   ]
  },
  {
   "cell_type": "code",
   "execution_count": 8,
   "id": "765d37c1",
   "metadata": {},
   "outputs": [
    {
     "name": "stdout",
     "output_type": "stream",
     "text": [
      "Displacement of node 1 (m):\n",
      "0.15000000000000002\n"
     ]
    }
   ],
   "source": [
    "# Get the displacement of the second node\n",
    "u2 = spring.get_displacement(1)\n",
    "# Print the displacement of the second node\n",
    "print(\"Displacement of node 1 (m):\")\n",
    "print(u2)"
   ]
  },
  {
   "cell_type": "markdown",
   "id": "031194d2",
   "metadata": {},
   "source": [
    "7. **Compute the Reaction Forces**: we can get the global force vector `F` by calling the `get_reaction_forces` method. This method returns the global force vector `F`, which contains the forces acting on all nodes in the system."
   ]
  },
  {
   "cell_type": "code",
   "execution_count": 9,
   "id": "9ae39d2d",
   "metadata": {},
   "outputs": [
    {
     "name": "stdout",
     "output_type": "stream",
     "text": [
      "Reaction forces (kN):\n",
      "[-1.5000000e+01  4.4408921e-16  1.5000000e+01]\n"
     ]
    }
   ],
   "source": [
    "# Get the reaction forces\n",
    "F = spring.get_reaction_forces()\n",
    "# Print the reaction forces\n",
    "print(\"Reaction forces (kN):\")\n",
    "print(F)"
   ]
  },
  {
   "cell_type": "markdown",
   "id": "ea5904ba",
   "metadata": {},
   "source": [
    "8. **Compute the Element Forces**: finally, we can get the element forces by calling the `get_element_force` method. This method takes as input the index of the element and returns the vector of forces acting on the element."
   ]
  },
  {
   "cell_type": "code",
   "execution_count": 10,
   "id": "4d5015c9",
   "metadata": {},
   "outputs": [
    {
     "name": "stdout",
     "output_type": "stream",
     "text": [
      "Element 0 forces (kN):\n",
      "[-15.  15.]\n",
      "Element 1 forces (kN):\n",
      "[-15.  15.]\n"
     ]
    }
   ],
   "source": [
    "for i in range(len(elements)):\n",
    "    # Get the element forces for the i-th element\n",
    "    f = spring.get_element_force(i)\n",
    "    # Print the element forces\n",
    "    print(f\"Element {i} forces (kN):\")\n",
    "    print(f)\n"
   ]
  }
 ],
 "metadata": {
  "kernelspec": {
   "display_name": "Python 3",
   "language": "python",
   "name": "python3"
  },
  "language_info": {
   "codemirror_mode": {
    "name": "ipython",
    "version": 3
   },
   "file_extension": ".py",
   "mimetype": "text/x-python",
   "name": "python",
   "nbconvert_exporter": "python",
   "pygments_lexer": "ipython3",
   "version": "3.9.6"
  }
 },
 "nbformat": 4,
 "nbformat_minor": 5
}
